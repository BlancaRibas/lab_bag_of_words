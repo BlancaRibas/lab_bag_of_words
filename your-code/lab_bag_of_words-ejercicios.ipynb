{
  "nbformat": 4,
  "nbformat_minor": 0,
  "metadata": {
    "kernelspec": {
      "display_name": "Python 3",
      "language": "python",
      "name": "python3"
    },
    "language_info": {
      "codemirror_mode": {
        "name": "ipython",
        "version": 3
      },
      "file_extension": ".py",
      "mimetype": "text/x-python",
      "name": "python",
      "nbconvert_exporter": "python",
      "pygments_lexer": "ipython3",
      "version": "3.8.5"
    },
    "colab": {
      "name": "lab_bag_of_words",
      "provenance": [],
      "collapsed_sections": []
    }
  },
  "cells": [
    {
      "cell_type": "markdown",
      "metadata": {
        "id": "Rach_V4OKi_b"
      },
      "source": [
        "Define `docs` array that contains the paths of `doc1.txt`, `doc2.txt`, and `doc3.txt`."
      ]
    },
    {
      "cell_type": "code",
      "metadata": {
        "colab": {
          "base_uri": "https://localhost:8080/",
          "height": 218
        },
        "id": "_tY_fFlVKi_6",
        "outputId": "9771fca8-d3e8-45dd-f699-031bfeb24285"
      },
      "source": [
        "docs = ['doc1.txt', 'doc2.txt', 'doc3.txt']\n",
        "import array\n",
        "List_of_Subdirectories = list(filter('/content/doc1.txt', '/content/doc2.txt','/content/doc3.txt' ()))\n",
        "print(List_of_Subdirectories)"
      ],
      "execution_count": 5,
      "outputs": [
        {
          "output_type": "error",
          "ename": "TypeError",
          "evalue": "ignored",
          "traceback": [
            "\u001b[0;31m---------------------------------------------------------------------------\u001b[0m",
            "\u001b[0;31mTypeError\u001b[0m                                 Traceback (most recent call last)",
            "\u001b[0;32m<ipython-input-5-a142f29a431d>\u001b[0m in \u001b[0;36m<module>\u001b[0;34m()\u001b[0m\n\u001b[1;32m      1\u001b[0m \u001b[0mdocs\u001b[0m \u001b[0;34m=\u001b[0m \u001b[0;34m[\u001b[0m\u001b[0;34m'doc1.txt'\u001b[0m\u001b[0;34m,\u001b[0m \u001b[0;34m'doc2.txt'\u001b[0m\u001b[0;34m,\u001b[0m \u001b[0;34m'doc3.txt'\u001b[0m\u001b[0;34m]\u001b[0m\u001b[0;34m\u001b[0m\u001b[0;34m\u001b[0m\u001b[0m\n\u001b[1;32m      2\u001b[0m \u001b[0;32mimport\u001b[0m \u001b[0marray\u001b[0m\u001b[0;34m\u001b[0m\u001b[0;34m\u001b[0m\u001b[0m\n\u001b[0;32m----> 3\u001b[0;31m \u001b[0mList_of_Subdirectories\u001b[0m \u001b[0;34m=\u001b[0m \u001b[0mlist\u001b[0m\u001b[0;34m(\u001b[0m\u001b[0mfilter\u001b[0m\u001b[0;34m(\u001b[0m\u001b[0;34m'/content/doc1.txt'\u001b[0m\u001b[0;34m,\u001b[0m \u001b[0;34m'/content/doc2.txt'\u001b[0m\u001b[0;34m,\u001b[0m\u001b[0;34m'/content/doc3.txt'\u001b[0m \u001b[0;34m(\u001b[0m\u001b[0;34m)\u001b[0m\u001b[0;34m)\u001b[0m\u001b[0;34m)\u001b[0m\u001b[0;34m\u001b[0m\u001b[0;34m\u001b[0m\u001b[0m\n\u001b[0m\u001b[1;32m      4\u001b[0m \u001b[0mprint\u001b[0m\u001b[0;34m(\u001b[0m\u001b[0mList_of_Subdirectories\u001b[0m\u001b[0;34m)\u001b[0m\u001b[0;34m\u001b[0m\u001b[0;34m\u001b[0m\u001b[0m\n",
            "\u001b[0;31mTypeError\u001b[0m: 'str' object is not callable"
          ]
        }
      ]
    },
    {
      "cell_type": "markdown",
      "metadata": {
        "id": "n5bs6GvZKi_-"
      },
      "source": [
        "Define an empty array `corpus` that will contain the content strings of the docs. Loop `docs` and read the content of each doc into the `corpus` array."
      ]
    },
    {
      "cell_type": "code",
      "metadata": {
        "colab": {
          "base_uri": "https://localhost:8080/",
          "height": 131
        },
        "id": "PdJmAr9KKjAA",
        "outputId": "6503f6a4-59fc-44aa-8542-b389dc419225"
      },
      "source": [
        "corpus = []\n",
        "\n",
        "# Write your code here\n",
        "string[] arr = new string[] {};\n"
      ],
      "execution_count": 7,
      "outputs": [
        {
          "output_type": "error",
          "ename": "SyntaxError",
          "evalue": "ignored",
          "traceback": [
            "\u001b[0;36m  File \u001b[0;32m\"<ipython-input-7-0d19510a8132>\"\u001b[0;36m, line \u001b[0;32m4\u001b[0m\n\u001b[0;31m    string[] arr = new string[] {};\u001b[0m\n\u001b[0m           ^\u001b[0m\n\u001b[0;31mSyntaxError\u001b[0m\u001b[0;31m:\u001b[0m invalid syntax\n"
          ]
        }
      ]
    },
    {
      "cell_type": "markdown",
      "metadata": {
        "id": "gTyAY_K2KjAC"
      },
      "source": [
        "Print `corpus`."
      ]
    },
    {
      "cell_type": "code",
      "metadata": {
        "id": "hk3wnoEgKjAD"
      },
      "source": [
        ""
      ],
      "execution_count": null,
      "outputs": []
    },
    {
      "cell_type": "markdown",
      "metadata": {
        "id": "GW3qXIhuKjAE"
      },
      "source": [
        "You should have seen:\n",
        "\n",
        "```['ironhack is cool', 'i love ironhack', 'i am a student at ironhack']```\n",
        "\n",
        "However, if your output is:\n",
        "\n",
        "```['Ironhack is cool.', 'I love Ironhack.', 'I am a student at Ironhack.']```\n",
        "\n",
        "This means you didn't:\n",
        "\n",
        "1. Remove punctuation from the strings;\n",
        "\n",
        "1. Convert strings to lowercase.\n",
        "\n",
        "Revise your code above until you receive the correct output for `corpus`."
      ]
    },
    {
      "cell_type": "markdown",
      "metadata": {
        "id": "PfJmpfsdKjAG"
      },
      "source": [
        "Now define `bag_of_words` as an empty array. It will contain the unique terms in `corpus`.\n",
        "\n",
        "Loop through `corpus`. In each loop, do the following:\n",
        "\n",
        "1. Break the string into an array of terms. \n",
        "1. Create a sub-loop to iterate the terms array. \n",
        "  * In each sub-loop, you'll check if the current term is already contained in `bag_of_words`. If not in `bag_of_words`, append it to the array."
      ]
    },
    {
      "cell_type": "code",
      "metadata": {
        "id": "IljEkxH0KjAH"
      },
      "source": [
        "bag_of_words = []\n",
        "\n",
        "# Write your code here"
      ],
      "execution_count": null,
      "outputs": []
    },
    {
      "cell_type": "markdown",
      "metadata": {
        "id": "Ck4WcI35KjAI"
      },
      "source": [
        "Print `bag_of_words`. You should see: \n",
        "\n",
        "```['ironhack', 'is', 'cool', 'i', 'love', 'am', 'a', 'student', 'at']```"
      ]
    },
    {
      "cell_type": "code",
      "metadata": {
        "id": "vkDQEJnBKjAK"
      },
      "source": [
        ""
      ],
      "execution_count": null,
      "outputs": []
    },
    {
      "cell_type": "markdown",
      "metadata": {
        "id": "QbwpKEoGKjAL"
      },
      "source": [
        "Now we define an empty array called `term_freq`. Loop `corpus` for a second time. In each loop, create a sub-loop to iterate the terms in `bag_of_words`. Count how many times each term appears in each doc of `corpus`. Append the term-frequency array to `term_freq`."
      ]
    },
    {
      "cell_type": "code",
      "metadata": {
        "id": "FMBLb9s4KjAM"
      },
      "source": [
        "term_freq = []\n",
        "\n",
        "# Write your code here"
      ],
      "execution_count": null,
      "outputs": []
    },
    {
      "cell_type": "markdown",
      "metadata": {
        "id": "SSF9bg3WKjAN"
      },
      "source": [
        "Print `term_freq`. You should see:\n",
        "\n",
        "```[[1, 1, 1, 0, 0, 0, 0, 0, 0], [1, 0, 0, 1, 1, 0, 0, 0, 0], [1, 0, 0, 1, 0, 1, 1, 1, 1]]```"
      ]
    },
    {
      "cell_type": "code",
      "metadata": {
        "id": "1jEDb5ysKjAO"
      },
      "source": [
        ""
      ],
      "execution_count": null,
      "outputs": []
    },
    {
      "cell_type": "markdown",
      "metadata": {
        "id": "LQn7qcDlKjAO"
      },
      "source": [
        "**If your answer is correct, congratulations! You've solved the challenge!**\n",
        "\n",
        "If not, go back and check for errors in your code."
      ]
    }
  ]
}